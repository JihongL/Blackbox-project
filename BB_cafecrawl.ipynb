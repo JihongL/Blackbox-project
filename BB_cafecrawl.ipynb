{
 "cells": [
  {
   "cell_type": "code",
   "execution_count": 15,
   "metadata": {
    "collapsed": true
   },
   "outputs": [],
   "source": [
    "from selenium import webdriver\n",
    "from bs4 import BeautifulSoup\n",
    "import time"
   ]
  },
  {
   "cell_type": "code",
   "execution_count": 16,
   "metadata": {
    "collapsed": true
   },
   "outputs": [],
   "source": [
    "brands = ['아이나비', '파인디지털', '큐알온텍', '재원씨앤씨', '아이트로닉스']\n",
    "url_list = {'아이나비':[], '파인디지털':[], '큐알온텍':[], '재원씨앤씨':[], '아이트로닉스':[]}\n",
    "board_list = {\n",
    "    \"아이나비\":\n",
    "    'http://cafe.naver.com/ArticleList.nhn?search.clubid=17638944&search.menuid=1074&search.boardtype=L&search.questionTab=A&search.totalCount=151&search.page=',\n",
    "    \"파인디지털\":\n",
    "    'http://cafe.naver.com/ArticleList.nhn?search.clubid=17638944&search.menuid=1077&search.boardtype=L&search.questionTab=A&search.totalCount=151&search.page=',\n",
    "    \"큐알온텍\":\n",
    "    'http://cafe.naver.com/ArticleList.nhn?search.clubid=17638944&search.menuid=1093&search.boardtype=L&search.questionTab=A&search.totalCount=151&search.page=',\n",
    "    \"재원씨앤씨\":\n",
    "    'http://cafe.naver.com/ArticleList.nhn?search.clubid=17638944&search.menuid=1092&search.boardtype=L&search.questionTab=A&search.totalCount=151&search.page=',\n",
    "    \"아이트로닉스\":\n",
    "    'http://cafe.naver.com/ArticleList.nhn?search.clubid=17638944&search.menuid=1078&search.boardtype=L&search.questionTab=A&search.totalCount=151&search.page='\n",
    "             }"
   ]
  },
  {
   "cell_type": "code",
   "execution_count": 17,
   "metadata": {
    "collapsed": true
   },
   "outputs": [],
   "source": [
    "def url_crawl(brands, board_list, url_list):\n",
    "    driver = webdriver.PhantomJS()\n",
    "    driver.implicitly_wait(3)\n",
    "    time.sleep(1)\n",
    "    for num in range(len(brands)):\n",
    "        board_url = board_list[brands[num]]\n",
    "        for i in range(1):\n",
    "            url = board_url + str(i)\n",
    "            driver.get(url)\n",
    "            iframe = driver.find_element_by_name('cafe_main')\n",
    "            driver.switch_to_frame(iframe)\n",
    "            webpage_source = driver.page_source\n",
    "            soup = BeautifulSoup(webpage_source, 'html.parser')\n",
    "            posts = soup.find_all('span', class_='aaa')\n",
    "\n",
    "            for post in posts:\n",
    "                title = post.find('a')\n",
    "                url_list[brands[num]].append('http://cafe.naver.com' + title.get('href'))\n",
    "\n",
    "            time.sleep(1)\n",
    "    return url_list"
   ]
  },
  {
   "cell_type": "code",
   "execution_count": null,
   "metadata": {
    "scrolled": false
   },
   "outputs": [],
   "source": [
    "driver = webdriver.PhantomJS()\n",
    "driver.get('http://cafe.naver.com/ArticleList.nhn?search.clubid=17638944&search.menuid=1074&search.boardtype=L&search.questionTab=A&search.totalCount=151&search.page=1')\n",
    "driver.switch_to_frame('cafe_main')\n",
    "page_source = driver.page_source\n",
    "print(page_source)\n",
    "driver.close()"
   ]
  },
  {
   "cell_type": "code",
   "execution_count": 9,
   "metadata": {
    "collapsed": true
   },
   "outputs": [],
   "source": [
    "def url_crawl(brands, board_list, url_list):\n",
    "    driver = webdriver.PhantomJS()\n",
    "    driver.implicitly_wait(3)\n",
    "    time.sleep(1)\n",
    "    for num in range(len(brands)):\n",
    "        board_url = board_list[brands[num]]\n",
    "        for i in range():\n",
    "            url = board_url + str(i)\n",
    "            driver.get(url)\n",
    "            #iframe = driver.find_element_by_name('cafe_main')\n",
    "            #driver.switch_to_frame(iframe)\n",
    "            #driver.switch_to.frame('cafe_main')\n",
    "            webpage_source = driver.page_source\n",
    "            soup = BeautifulSoup(webpage_source, 'html.parser')\n",
    "            posts = soup.find_all('span', class_='aaa')\n",
    "\n",
    "            for post in posts:\n",
    "                title = post.find('a')\n",
    "                url_list[brands[num]].append('http://cafe.naver.com' + title.get('href'))\n",
    "\n",
    "            time.sleep(1)\n",
    "    return url_list"
   ]
  },
  {
   "cell_type": "code",
   "execution_count": 127,
   "metadata": {
    "collapsed": true
   },
   "outputs": [],
   "source": [
    "url_list = url_crawl(brands, board_list, url_list)"
   ]
  },
  {
   "cell_type": "code",
   "execution_count": 156,
   "metadata": {
    "collapsed": true
   },
   "outputs": [],
   "source": [
    "import pickle"
   ]
  },
  {
   "cell_type": "code",
   "execution_count": 165,
   "metadata": {
    "collapsed": true
   },
   "outputs": [],
   "source": [
    "pickle.dump(url_list, open('data/url_list.pk', 'wb'))"
   ]
  },
  {
   "cell_type": "code",
   "execution_count": 180,
   "metadata": {
    "collapsed": true
   },
   "outputs": [],
   "source": [
    "def content_crawl(brands, url_list):\n",
    "    brand_contents = {}\n",
    "    driver = webdriver.PhantomJS()\n",
    "    driver.implicitly_wait(3)\n",
    "    driver.get('http://www.naver.com')\n",
    "    time.sleep(1)\n",
    "\n",
    "    driver.find_element_by_name('id').send_keys('id')\n",
    "    driver.find_element_by_name('pw').send_keys('pw')\n",
    "    time.sleep(1)\n",
    "    driver.find_element_by_xpath('//*[@id=\"frmNIDLogin\"]/fieldset/span/input').click()\n",
    "    for num in range(len(brands)):\n",
    "        brand_contents[brands[num]] = []\n",
    "        for i in range(len(url_list[brands[num]])):\n",
    "            url = url_list[brands[num]]\n",
    "            content = url[i]\n",
    "            driver.get(content)\n",
    "            iframe = driver.find_element_by_name('cafe_main')\n",
    "            driver.switch_to_frame(iframe)\n",
    "            webpage_source = driver.page_source\n",
    "            soup = BeautifulSoup(webpage_source, 'html.parser')\n",
    "            body = driver.find_element_by_id('tbody')\n",
    "            brand_contents[brands[num]].append(body.text)\n",
    "\n",
    "            time.sleep(1)\n",
    "            #print(body.text)\n",
    "    return brand_contents"
   ]
  },
  {
   "cell_type": "code",
   "execution_count": 179,
   "metadata": {
    "scrolled": false
   },
   "outputs": [
    {
     "ename": "NameError",
     "evalue": "name 'brand' is not defined",
     "output_type": "error",
     "traceback": [
      "\u001b[0;31m---------------------------------------------------------------------------\u001b[0m",
      "\u001b[0;31mNameError\u001b[0m                                 Traceback (most recent call last)",
      "\u001b[0;32m<ipython-input-179-7f6545dae04e>\u001b[0m in \u001b[0;36m<module>\u001b[0;34m()\u001b[0m\n\u001b[0;32m----> 1\u001b[0;31m \u001b[0mbrand_contents\u001b[0m \u001b[0;34m=\u001b[0m \u001b[0mcontent_crawl\u001b[0m\u001b[0;34m(\u001b[0m\u001b[0mbrands\u001b[0m\u001b[0;34m,\u001b[0m \u001b[0murl_list\u001b[0m\u001b[0;34m)\u001b[0m\u001b[0;34m\u001b[0m\u001b[0m\n\u001b[0m",
      "\u001b[0;32m<ipython-input-178-9c539e45ee0f>\u001b[0m in \u001b[0;36mcontent_crawl\u001b[0;34m(brands, url_list)\u001b[0m\n\u001b[1;32m     12\u001b[0m     \u001b[0;32mfor\u001b[0m \u001b[0mnum\u001b[0m \u001b[0;32min\u001b[0m \u001b[0mrange\u001b[0m\u001b[0;34m(\u001b[0m\u001b[0mlen\u001b[0m\u001b[0;34m(\u001b[0m\u001b[0mbrands\u001b[0m\u001b[0;34m)\u001b[0m\u001b[0;34m)\u001b[0m\u001b[0;34m:\u001b[0m\u001b[0;34m\u001b[0m\u001b[0m\n\u001b[1;32m     13\u001b[0m         \u001b[0mbrand_contents\u001b[0m\u001b[0;34m[\u001b[0m\u001b[0mbrands\u001b[0m\u001b[0;34m[\u001b[0m\u001b[0mnum\u001b[0m\u001b[0;34m]\u001b[0m\u001b[0;34m]\u001b[0m \u001b[0;34m=\u001b[0m \u001b[0;34m[\u001b[0m\u001b[0;34m]\u001b[0m\u001b[0;34m\u001b[0m\u001b[0m\n\u001b[0;32m---> 14\u001b[0;31m         \u001b[0;32mfor\u001b[0m \u001b[0mi\u001b[0m \u001b[0;32min\u001b[0m \u001b[0mrange\u001b[0m\u001b[0;34m(\u001b[0m\u001b[0mlen\u001b[0m\u001b[0;34m(\u001b[0m\u001b[0murl_list\u001b[0m\u001b[0;34m[\u001b[0m\u001b[0mbrand\u001b[0m\u001b[0;34m[\u001b[0m\u001b[0mnum\u001b[0m\u001b[0;34m]\u001b[0m\u001b[0;34m]\u001b[0m\u001b[0;34m)\u001b[0m\u001b[0;34m)\u001b[0m\u001b[0;34m:\u001b[0m\u001b[0;34m\u001b[0m\u001b[0m\n\u001b[0m\u001b[1;32m     15\u001b[0m             \u001b[0murl\u001b[0m \u001b[0;34m=\u001b[0m \u001b[0murl_list\u001b[0m\u001b[0;34m[\u001b[0m\u001b[0mbrands\u001b[0m\u001b[0;34m[\u001b[0m\u001b[0mnum\u001b[0m\u001b[0;34m]\u001b[0m\u001b[0;34m]\u001b[0m\u001b[0;34m\u001b[0m\u001b[0m\n\u001b[1;32m     16\u001b[0m             \u001b[0mcontent\u001b[0m \u001b[0;34m=\u001b[0m \u001b[0murl\u001b[0m\u001b[0;34m[\u001b[0m\u001b[0mi\u001b[0m\u001b[0;34m]\u001b[0m\u001b[0;34m\u001b[0m\u001b[0m\n",
      "\u001b[0;31mNameError\u001b[0m: name 'brand' is not defined"
     ]
    }
   ],
   "source": [
    "brand_contents = content_crawl(brands, url_list)"
   ]
  },
  {
   "cell_type": "code",
   "execution_count": 175,
   "metadata": {},
   "outputs": [
    {
     "data": {
      "text/plain": [
       "['         주간 주차영상 그리고 주간영상 입니다. \\n\\n \\n         주간 영상 입니다. ',\n",
       " 'QXD900View+ 블랙박스 (feat. 칼트윈 TX) 주행영상\\n\\n\\n\\n\\n전방 틴팅 필름 : 아이나비 칼트윈 TX 30%\\n\\n전방 틴팅 필름 농도가 30%인데도 아주 깔끔하고 선명하게 잘보입니다.\\n그리고 열차단 성능이 아주 좋은듯합니다.\\n요즘같이 무더운 날씨에 차량에 탑승해도 아주 뜨겁다는 느낌은 안들더군요.\\n그냥 뜨끈한 정도? ㅎ',\n",
       " '배선은 다 깔려있는데 본체랑 후방카메라랑 선만 바꿔끼면 될까요?',\n",
       " '(동영상 추가: 오늘(5. 22.) 10시-11시경 입니다. 지하 주차장 아닌 지상에 주차하니 여지없이 문제 발생하네요.)\\n\\n\\n안녕하세요, 지난 주 토요일에 QXD950 구입 장착한 차주입니다.\\n\\n오늘 아침 11시경에 차 끌고 나가는데 자꾸 후방 카메라를 다시 연결한다는 경보음 같은 게 들리길래 네비가 문제가 있나 했는데,\\n가다보니 블랙박스가 먹통으로 계속 재부팅을 하고 있더군요.\\n\\n\"후방카메라가 연결되었습니다. 시스템 정상화를 위해 재부팅합니다\"\\n\\n수차례 재부팅 이후에 화면이 켜졌으나 결국 첨부 동영상과 같이 터치 먹통 ..\\n그간 지하 주차장에 주차해놔서 몰랐는데, 어제 토요일에 밤에 주차장 꽉 차서 지상에 세워두고 오늘 오전에 운전하니까 이런 일이 생기네요.\\n\\n이거 왜 이러는 건가요?\\n제품 교환해야하는 건가요?\\n\\n\\n\\n\\n\\n\\n\\n\\n이후에 차를 주차하고, 고온 상태 모드 설정 같은 게 있나 확인하려 했는데 그런 건 따로 없고,\\n겨울철 저전압 설정하는 것만 있더군요.\\n..\\n\\n아직 한여름도 아니고,\\n고작 일주일만에 이런 문제가 생기다니 ..\\n아이나비 브랜드 네임 믿고, 고민하던 타사 제품보다 10만원 더 비쌌으나 샀는데, 일주일 만에 이런 일이 있으니 참.\\n..\\n\\n해결 방법 아시는 분 또는 QXD950 쓰시는 다른 분들의 의견 묻고 싶습니다.\\n\\n예전에 유라이브 알바트로스 V 단지 한 달만에 시공점 가서 교환했던 기억이 있는데,\\n시공점이 썬팅도 잘 못하고 친절하지도 않아서 다시 가고 싶지 않은데 벌써부터 걱정이네요.\\n\\n\\n방배동 서울 프리미엄 센터에서 후방 카메라랑 배선 교체 받았는데도 증상이 동일하여 .. 사진과 동영상 첨부합니다.',\n",
       " '                           전방 썬팅50% 후방은 무썬팅 입니다. \\n                          크롬으로 접속후 1440p 으로 재생하시면 됩니다.\\n\\n \\n                                                   오후 영상 \\n\\n \\n                                                    흐린날씨 ']"
      ]
     },
     "execution_count": 175,
     "metadata": {},
     "output_type": "execute_result"
    }
   ],
   "source": [
    "brand_contents['아이나비']"
   ]
  },
  {
   "cell_type": "code",
   "execution_count": 54,
   "metadata": {
    "collapsed": true
   },
   "outputs": [],
   "source": [
    "content_list = []"
   ]
  },
  {
   "cell_type": "code",
   "execution_count": null,
   "metadata": {
    "collapsed": true,
    "scrolled": false
   },
   "outputs": [],
   "source": [
    "driver = webdriver.PhantomJS()\n",
    "driver.implicitly_wait(3)\n",
    "driver.get('http://www.naver.com')\n",
    "time.sleep(1)\n",
    "\n",
    "driver.find_element_by_name('id').send_keys('soo5028')\n",
    "driver.find_element_by_name('pw').send_keys('soo5028%')\n",
    "time.sleep(1)\n",
    "driver.find_element_by_xpath('//*[@id=\"frmNIDLogin\"]/fieldset/span/input').click()\n",
    "\n",
    "for i in range(len(url_list)):\n",
    "    content = url_list[i]\n",
    "    driver.get(content)\n",
    "    iframe = driver.find_element_by_name('cafe_main')\n",
    "    driver.switch_to_frame(iframe)\n",
    "    webpage_source = driver.page_source\n",
    "    soup = BeautifulSoup(webpage_source, 'html.parser')\n",
    "    body = driver.find_element_by_id('tbody')\n",
    "    content_list.append(body.text)\n",
    "    \n",
    "    time.sleep(1)"
   ]
  },
  {
   "cell_type": "code",
   "execution_count": null,
   "metadata": {
    "collapsed": true
   },
   "outputs": [],
   "source": []
  }
 ],
 "metadata": {
  "kernelspec": {
   "display_name": "Python 3",
   "language": "python",
   "name": "python3"
  },
  "language_info": {
   "codemirror_mode": {
    "name": "ipython",
    "version": 3
   },
   "file_extension": ".py",
   "mimetype": "text/x-python",
   "name": "python",
   "nbconvert_exporter": "python",
   "pygments_lexer": "ipython3",
   "version": "3.6.3"
  }
 },
 "nbformat": 4,
 "nbformat_minor": 2
}
